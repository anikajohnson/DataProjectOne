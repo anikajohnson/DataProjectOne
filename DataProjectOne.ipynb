{
 "cells": [
  {
   "cell_type": "code",
   "execution_count": null,
   "metadata": {},
   "outputs": [],
   "source": [
    "#dependencies"
   ]
  },
  {
   "cell_type": "code",
   "execution_count": null,
   "metadata": {},
   "outputs": [],
   "source": [
    "#Anika Start"
   ]
  },
  {
   "cell_type": "code",
   "execution_count": null,
   "metadata": {},
   "outputs": [],
   "source": [
    "#Anika End"
   ]
  },
  {
   "cell_type": "code",
   "execution_count": null,
   "metadata": {},
   "outputs": [],
   "source": [
    "#Melissa M Start"
   ]
  },
  {
   "cell_type": "code",
   "execution_count": null,
   "metadata": {},
   "outputs": [],
   "source": [
    "#Melissa M End"
   ]
  },
  {
   "cell_type": "code",
   "execution_count": null,
   "metadata": {},
   "outputs": [],
   "source": [
    "#Liz Start"
   ]
  },
  {
   "cell_type": "code",
   "execution_count": null,
   "metadata": {},
   "outputs": [],
   "source": [
    "import pandas as pd\n",
    "import os"
   ]
  },
  {
   "cell_type": "code",
   "execution_count": null,
   "metadata": {},
   "outputs": [],
   "source": [
    "# load Mendocino Palmer Index\n",
    "file = os.path.join('..','DataProjectOne','Data','MendocinoPalmerIndex.csv')\n",
    "MendoPalm = pd.read_csv(file)\n",
    "MendoPalm.head()"
   ]
  },
  {
   "cell_type": "code",
   "execution_count": null,
   "metadata": {},
   "outputs": [],
   "source": [
    "# load San Diego  Palmer Index\n",
    "\n",
    "file = os.path.join('..','DataProjectOne','Data','SanDiegoPalmerIndex.csv')\n",
    "SanPalm = pd.read_csv(file)\n",
    "SanPalm.head()\n"
   ]
  },
  {
   "cell_type": "code",
   "execution_count": null,
   "metadata": {},
   "outputs": [],
   "source": [
    "# load Tuolumne Palmer Index\n",
    "\n",
    "file = os.path.join('..','DataProjectOne','Data','TuolumnePalmerIndex.csv')\n",
    "TuoPalm = pd.read_csv(file)\n",
    "TuoPalm.head()"
   ]
  },
  {
   "cell_type": "code",
   "execution_count": null,
   "metadata": {},
   "outputs": [],
   "source": [
    "# load San Diego Weather csv\n",
    "\n",
    "file = os.path.join('..','DataProjectOne','Data','SanDiegoWeather.csv')\n",
    "SanWT = pd.read_csv(file)\n",
    "SanWT.head()"
   ]
  },
  {
   "cell_type": "code",
   "execution_count": null,
   "metadata": {},
   "outputs": [],
   "source": [
    "# load Mendocinio Weather\n",
    "\n",
    "file = os.path.join('..','DataProjectOne','Data','MendocinoWeather.csv')\n",
    "MendoWT = pd.read_csv(file)\n",
    "MendoWT.head()"
   ]
  },
  {
   "cell_type": "code",
   "execution_count": null,
   "metadata": {},
   "outputs": [],
   "source": [
    "# load Tuolumne Weather\n",
    "\n",
    "file = os.path.join('..','DataProjectOne','Data','TuolumneWeather.csv')\n",
    "TuoWT = pd.read_csv(file)\n",
    "TuoWT.tail()"
   ]
  },
  {
   "cell_type": "code",
   "execution_count": null,
   "metadata": {},
   "outputs": [],
   "source": [
    "#Liz End"
   ]
  },
  {
   "cell_type": "code",
   "execution_count": null,
   "metadata": {},
   "outputs": [],
   "source": [
    "#MK Start"
   ]
  },
  {
   "cell_type": "code",
   "execution_count": null,
   "metadata": {},
   "outputs": [],
   "source": [
    "#MK End"
   ]
  }
 ],
 "metadata": {
  "kernelspec": {
   "display_name": "Python 3",
   "language": "python",
   "name": "python3"
  },
  "language_info": {
   "codemirror_mode": {
    "name": "ipython",
    "version": 3
   },
   "file_extension": ".py",
   "mimetype": "text/x-python",
   "name": "python",
   "nbconvert_exporter": "python",
   "pygments_lexer": "ipython3",
   "version": "3.6.9"
  }
 },
 "nbformat": 4,
 "nbformat_minor": 4
}
